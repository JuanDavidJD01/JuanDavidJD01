{
 "cells": [
  {
   "cell_type": "code",
   "execution_count": 2,
   "metadata": {},
   "outputs": [
    {
     "name": "stdout",
     "output_type": "stream",
     "text": [
      "{'title': 'Documento de Prueba', 'headings': {'h1': ['Título Principal'], 'h2': ['Subtítulo 1', 'Subtítulo 2'], 'h3': ['Sección 3'], 'h4': [], 'h5': [], 'h6': []}, 'paragraphs': ['Este es un párrafo de ejemplo. Aquí hay información importante del documento.', 'Otro párrafo con contenido adicional. Puedes escribir lo que desees aquí.', 'Este es un texto más pequeño dentro de una sección.', 'Este es el pie de página con información adicional.'], 'links': [{'href': '#seccion1', 'text': 'Ir a Sección 1'}, {'href': '#seccion2', 'text': 'Ir a Sección 2'}, {'href': 'https://example.com', 'text': 'Este es un enlace de ejemplo.'}], 'meta_tags': {'undefined': '', 'viewport': 'width=device-width, initial-scale=1.0', 'description': 'Este es un documento de prueba para extraer datos.', 'author': 'Juan David'}}\n"
     ]
    }
   ],
   "source": [
    "from bs4 import BeautifulSoup\n",
    "from pathlib import Path\n",
    "\n",
    "#Funcion para cargar y procesar el documento HTML\n",
    "def load_document(file_path):\n",
    "    with open(file_path, \"r\", encoding=\"utf-8\") as file:\n",
    "        return file.read()\n",
    "\n",
    "#Funcion para extraer datos específicos del HTML\n",
    "def extract_data(html_content):\n",
    "    soup = BeautifulSoup(html_content, \"html.parser\")\n",
    "    \n",
    "    #Extraer encabezados\n",
    "    headings = {f\"h{level}\": [h.text.strip() for h in soup.find_all(f\"h{level}\")] for level in range(1, 7)}\n",
    "    \n",
    "    #Extraer parrafos\n",
    "    paragraphs = [p.text.strip() for p in soup.find_all(\"p\")]\n",
    "    \n",
    "    links = [{\"href\": a.get(\"href\"), \"text\": a.text.strip()} for a in soup.find_all(\"a\")]\n",
    "    \n",
    "    title = soup.title.text.strip() if soup.title else \"Sin título\"\n",
    "    \n",
    "    meta_tags = {meta.get(\"name\", \"undefined\"): meta.get(\"content\", \"\") for meta in soup.find_all(\"meta\")}\n",
    "    \n",
    "    return {\n",
    "        \"title\": title,\n",
    "        \"headings\": headings,\n",
    "        \"paragraphs\": paragraphs,\n",
    "        \"links\": links,\n",
    "        \"meta_tags\": meta_tags,\n",
    "    }\n",
    "\n",
    "file_path = Path(\"ejemplo.html\")\n",
    "\n",
    "content = load_document(file_path)\n",
    "\n",
    "data = extract_data(content)\n",
    "\n",
    "print(data)"
   ]
  }
 ],
 "metadata": {
  "kernelspec": {
   "display_name": "env",
   "language": "python",
   "name": "python3"
  },
  "language_info": {
   "codemirror_mode": {
    "name": "ipython",
    "version": 3
   },
   "file_extension": ".py",
   "mimetype": "text/x-python",
   "name": "python",
   "nbconvert_exporter": "python",
   "pygments_lexer": "ipython3",
   "version": "3.10.12"
  }
 },
 "nbformat": 4,
 "nbformat_minor": 2
}
